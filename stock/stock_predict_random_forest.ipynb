{
  "nbformat": 4,
  "nbformat_minor": 0,
  "metadata": {
    "colab": {
      "provenance": [],
      "authorship_tag": "ABX9TyODEv5wzD7a9QICXd3m4QAA",
      "include_colab_link": true
    },
    "kernelspec": {
      "name": "python3",
      "display_name": "Python 3"
    },
    "language_info": {
      "name": "python"
    }
  },
  "cells": [
    {
      "cell_type": "markdown",
      "metadata": {
        "id": "view-in-github",
        "colab_type": "text"
      },
      "source": [
        "<a href=\"https://colab.research.google.com/github/sanghun1210/mlworkshop/blob/main/stock/stock_predict_random_forest.ipynb\" target=\"_parent\"><img src=\"https://colab.research.google.com/assets/colab-badge.svg\" alt=\"Open In Colab\"/></a>"
      ]
    },
    {
      "cell_type": "code",
      "execution_count": null,
      "metadata": {
        "colab": {
          "base_uri": "https://localhost:8080/"
        },
        "id": "L9u97cFYLlJR",
        "outputId": "e1e402c8-d4aa-4962-b4d4-085c7164af47"
      },
      "outputs": [
        {
          "output_type": "stream",
          "name": "stdout",
          "text": [
            "Looking in indexes: https://pypi.org/simple, https://us-python.pkg.dev/colab-wheels/public/simple/\n",
            "Requirement already satisfied: numpy in /usr/local/lib/python3.10/dist-packages (1.24.3)\n",
            "Looking in indexes: https://pypi.org/simple, https://us-python.pkg.dev/colab-wheels/public/simple/\n",
            "Requirement already satisfied: finance-datareader in /usr/local/lib/python3.10/dist-packages (0.9.50)\n",
            "Requirement already satisfied: pandas>=0.19.2 in /usr/local/lib/python3.10/dist-packages (from finance-datareader) (1.5.3)\n",
            "Requirement already satisfied: requests>=2.3.0 in /usr/local/lib/python3.10/dist-packages (from finance-datareader) (2.27.1)\n",
            "Requirement already satisfied: requests-file in /usr/local/lib/python3.10/dist-packages (from finance-datareader) (1.5.1)\n",
            "Requirement already satisfied: lxml in /usr/local/lib/python3.10/dist-packages (from finance-datareader) (4.9.2)\n",
            "Requirement already satisfied: tqdm in /usr/local/lib/python3.10/dist-packages (from finance-datareader) (4.65.0)\n",
            "Requirement already satisfied: python-dateutil>=2.8.1 in /usr/local/lib/python3.10/dist-packages (from pandas>=0.19.2->finance-datareader) (2.8.2)\n",
            "Requirement already satisfied: pytz>=2020.1 in /usr/local/lib/python3.10/dist-packages (from pandas>=0.19.2->finance-datareader) (2022.7.1)\n",
            "Requirement already satisfied: numpy>=1.21.0 in /usr/local/lib/python3.10/dist-packages (from pandas>=0.19.2->finance-datareader) (1.24.3)\n",
            "Requirement already satisfied: urllib3<1.27,>=1.21.1 in /usr/local/lib/python3.10/dist-packages (from requests>=2.3.0->finance-datareader) (1.26.15)\n",
            "Requirement already satisfied: certifi>=2017.4.17 in /usr/local/lib/python3.10/dist-packages (from requests>=2.3.0->finance-datareader) (2022.12.7)\n",
            "Requirement already satisfied: charset-normalizer~=2.0.0 in /usr/local/lib/python3.10/dist-packages (from requests>=2.3.0->finance-datareader) (2.0.12)\n",
            "Requirement already satisfied: idna<4,>=2.5 in /usr/local/lib/python3.10/dist-packages (from requests>=2.3.0->finance-datareader) (3.4)\n",
            "Requirement already satisfied: six in /usr/local/lib/python3.10/dist-packages (from requests-file->finance-datareader) (1.16.0)\n"
          ]
        }
      ],
      "source": [
        "!pip install -U numpy\n",
        "!pip install finance-datareader\n",
        "import FinanceDataReader as fdr\n",
        "\n",
        "def get_stock_list():\n",
        "    try:\n",
        "        df_krx = fdr.StockListing(\"KRX\")\n",
        "        return df_krx\n",
        "    except Exception as e:    \n",
        "        print(\"raise error \", e)\n",
        "    "
      ]
    },
    {
      "cell_type": "code",
      "source": [
        "df_krx = get_stock_list()\n",
        "sam_df = fdr.DataReader(df_krx['Code'][0])\n",
        "sam_df.head()\n",
        "\n",
        "\n"
      ],
      "metadata": {
        "colab": {
          "base_uri": "https://localhost:8080/",
          "height": 235
        },
        "id": "nVotZUecN1pL",
        "outputId": "d1d4b0a3-3230-46a1-86af-2ce09436c219"
      },
      "execution_count": null,
      "outputs": [
        {
          "output_type": "execute_result",
          "data": {
            "text/plain": [
              "            Open  High   Low  Close  Volume    Change\n",
              "Date                                                 \n",
              "1999-02-19  1663  1663  1602   1653  503847       NaN\n",
              "1999-02-22  1624  1624  1583   1605  390357 -0.029038\n",
              "1999-02-23  1616  1624  1538   1595  489420 -0.006231\n",
              "1999-02-24  1586  1637  1579   1605  450797  0.006270\n",
              "1999-02-25  1584  1667  1577   1644  428566  0.024299"
            ],
            "text/html": [
              "\n",
              "  <div id=\"df-a022c68a-ca60-40da-853f-e7ca39d8c3be\">\n",
              "    <div class=\"colab-df-container\">\n",
              "      <div>\n",
              "<style scoped>\n",
              "    .dataframe tbody tr th:only-of-type {\n",
              "        vertical-align: middle;\n",
              "    }\n",
              "\n",
              "    .dataframe tbody tr th {\n",
              "        vertical-align: top;\n",
              "    }\n",
              "\n",
              "    .dataframe thead th {\n",
              "        text-align: right;\n",
              "    }\n",
              "</style>\n",
              "<table border=\"1\" class=\"dataframe\">\n",
              "  <thead>\n",
              "    <tr style=\"text-align: right;\">\n",
              "      <th></th>\n",
              "      <th>Open</th>\n",
              "      <th>High</th>\n",
              "      <th>Low</th>\n",
              "      <th>Close</th>\n",
              "      <th>Volume</th>\n",
              "      <th>Change</th>\n",
              "    </tr>\n",
              "    <tr>\n",
              "      <th>Date</th>\n",
              "      <th></th>\n",
              "      <th></th>\n",
              "      <th></th>\n",
              "      <th></th>\n",
              "      <th></th>\n",
              "      <th></th>\n",
              "    </tr>\n",
              "  </thead>\n",
              "  <tbody>\n",
              "    <tr>\n",
              "      <th>1999-02-19</th>\n",
              "      <td>1663</td>\n",
              "      <td>1663</td>\n",
              "      <td>1602</td>\n",
              "      <td>1653</td>\n",
              "      <td>503847</td>\n",
              "      <td>NaN</td>\n",
              "    </tr>\n",
              "    <tr>\n",
              "      <th>1999-02-22</th>\n",
              "      <td>1624</td>\n",
              "      <td>1624</td>\n",
              "      <td>1583</td>\n",
              "      <td>1605</td>\n",
              "      <td>390357</td>\n",
              "      <td>-0.029038</td>\n",
              "    </tr>\n",
              "    <tr>\n",
              "      <th>1999-02-23</th>\n",
              "      <td>1616</td>\n",
              "      <td>1624</td>\n",
              "      <td>1538</td>\n",
              "      <td>1595</td>\n",
              "      <td>489420</td>\n",
              "      <td>-0.006231</td>\n",
              "    </tr>\n",
              "    <tr>\n",
              "      <th>1999-02-24</th>\n",
              "      <td>1586</td>\n",
              "      <td>1637</td>\n",
              "      <td>1579</td>\n",
              "      <td>1605</td>\n",
              "      <td>450797</td>\n",
              "      <td>0.006270</td>\n",
              "    </tr>\n",
              "    <tr>\n",
              "      <th>1999-02-25</th>\n",
              "      <td>1584</td>\n",
              "      <td>1667</td>\n",
              "      <td>1577</td>\n",
              "      <td>1644</td>\n",
              "      <td>428566</td>\n",
              "      <td>0.024299</td>\n",
              "    </tr>\n",
              "  </tbody>\n",
              "</table>\n",
              "</div>\n",
              "      <button class=\"colab-df-convert\" onclick=\"convertToInteractive('df-a022c68a-ca60-40da-853f-e7ca39d8c3be')\"\n",
              "              title=\"Convert this dataframe to an interactive table.\"\n",
              "              style=\"display:none;\">\n",
              "        \n",
              "  <svg xmlns=\"http://www.w3.org/2000/svg\" height=\"24px\"viewBox=\"0 0 24 24\"\n",
              "       width=\"24px\">\n",
              "    <path d=\"M0 0h24v24H0V0z\" fill=\"none\"/>\n",
              "    <path d=\"M18.56 5.44l.94 2.06.94-2.06 2.06-.94-2.06-.94-.94-2.06-.94 2.06-2.06.94zm-11 1L8.5 8.5l.94-2.06 2.06-.94-2.06-.94L8.5 2.5l-.94 2.06-2.06.94zm10 10l.94 2.06.94-2.06 2.06-.94-2.06-.94-.94-2.06-.94 2.06-2.06.94z\"/><path d=\"M17.41 7.96l-1.37-1.37c-.4-.4-.92-.59-1.43-.59-.52 0-1.04.2-1.43.59L10.3 9.45l-7.72 7.72c-.78.78-.78 2.05 0 2.83L4 21.41c.39.39.9.59 1.41.59.51 0 1.02-.2 1.41-.59l7.78-7.78 2.81-2.81c.8-.78.8-2.07 0-2.86zM5.41 20L4 18.59l7.72-7.72 1.47 1.35L5.41 20z\"/>\n",
              "  </svg>\n",
              "      </button>\n",
              "      \n",
              "  <style>\n",
              "    .colab-df-container {\n",
              "      display:flex;\n",
              "      flex-wrap:wrap;\n",
              "      gap: 12px;\n",
              "    }\n",
              "\n",
              "    .colab-df-convert {\n",
              "      background-color: #E8F0FE;\n",
              "      border: none;\n",
              "      border-radius: 50%;\n",
              "      cursor: pointer;\n",
              "      display: none;\n",
              "      fill: #1967D2;\n",
              "      height: 32px;\n",
              "      padding: 0 0 0 0;\n",
              "      width: 32px;\n",
              "    }\n",
              "\n",
              "    .colab-df-convert:hover {\n",
              "      background-color: #E2EBFA;\n",
              "      box-shadow: 0px 1px 2px rgba(60, 64, 67, 0.3), 0px 1px 3px 1px rgba(60, 64, 67, 0.15);\n",
              "      fill: #174EA6;\n",
              "    }\n",
              "\n",
              "    [theme=dark] .colab-df-convert {\n",
              "      background-color: #3B4455;\n",
              "      fill: #D2E3FC;\n",
              "    }\n",
              "\n",
              "    [theme=dark] .colab-df-convert:hover {\n",
              "      background-color: #434B5C;\n",
              "      box-shadow: 0px 1px 3px 1px rgba(0, 0, 0, 0.15);\n",
              "      filter: drop-shadow(0px 1px 2px rgba(0, 0, 0, 0.3));\n",
              "      fill: #FFFFFF;\n",
              "    }\n",
              "  </style>\n",
              "\n",
              "      <script>\n",
              "        const buttonEl =\n",
              "          document.querySelector('#df-a022c68a-ca60-40da-853f-e7ca39d8c3be button.colab-df-convert');\n",
              "        buttonEl.style.display =\n",
              "          google.colab.kernel.accessAllowed ? 'block' : 'none';\n",
              "\n",
              "        async function convertToInteractive(key) {\n",
              "          const element = document.querySelector('#df-a022c68a-ca60-40da-853f-e7ca39d8c3be');\n",
              "          const dataTable =\n",
              "            await google.colab.kernel.invokeFunction('convertToInteractive',\n",
              "                                                     [key], {});\n",
              "          if (!dataTable) return;\n",
              "\n",
              "          const docLinkHtml = 'Like what you see? Visit the ' +\n",
              "            '<a target=\"_blank\" href=https://colab.research.google.com/notebooks/data_table.ipynb>data table notebook</a>'\n",
              "            + ' to learn more about interactive tables.';\n",
              "          element.innerHTML = '';\n",
              "          dataTable['output_type'] = 'display_data';\n",
              "          await google.colab.output.renderOutput(dataTable, element);\n",
              "          const docLink = document.createElement('div');\n",
              "          docLink.innerHTML = docLinkHtml;\n",
              "          element.appendChild(docLink);\n",
              "        }\n",
              "      </script>\n",
              "    </div>\n",
              "  </div>\n",
              "  "
            ]
          },
          "metadata": {},
          "execution_count": 3
        }
      ]
    },
    {
      "cell_type": "code",
      "source": [
        "sam_df['Change'].plot.hist(bins=50)\n",
        "# plt.xlabel(\"Adjusted close 1 day percent change\")\n",
        "# plt.show()\n",
        "\n",
        "#from sklearn.model_selection import train_test_split\n",
        "#x_train, x_test, y_train, y_test = train_test_split(x, y, test_size=0.26, random_state=0)"
      ],
      "metadata": {
        "colab": {
          "base_uri": "https://localhost:8080/",
          "height": 447
        },
        "id": "vTyDn6kQXg9I",
        "outputId": "67bd1d67-5a61-4e83-9677-0363498850a8"
      },
      "execution_count": null,
      "outputs": [
        {
          "output_type": "execute_result",
          "data": {
            "text/plain": [
              "<Axes: ylabel='Frequency'>"
            ]
          },
          "metadata": {},
          "execution_count": 4
        },
        {
          "output_type": "display_data",
          "data": {
            "text/plain": [
              "<Figure size 640x480 with 1 Axes>"
            ],
            "image/png": "[encoded data removed]"
          },
          "metadata": {}
        }
      ]
    },
    {
      "cell_type": "code",
      "source": [
        "url = 'https://anaconda.org/conda-forge/libta-lib/0.4.0/download/linux-64/libta-lib-0.4.0-h166bdaf_1.tar.bz2'\n",
        "!curl -L $url | tar xj -C /usr/lib/x86_64-linux-gnu/ lib --strip-components=1\n",
        "url = 'https://anaconda.org/conda-forge/ta-lib/0.4.19/download/linux-64/ta-lib-0.4.19-py310hde88566_4.tar.bz2'\n",
        "!curl -L $url | tar xj -C /usr/local/lib/python3.10/dist-packages/ lib/python3.10/site-packages/talib --strip-components=3\n",
        "import talib"
      ],
      "metadata": {
        "colab": {
          "base_uri": "https://localhost:8080/"
        },
        "id": "KxHfH0jxbaTT",
        "outputId": "a1c8db8c-e35b-4d95-ef01-104b06655884"
      },
      "execution_count": null,
      "outputs": [
        {
          "output_type": "stream",
          "name": "stdout",
          "text": [
            "  % Total    % Received % Xferd  Average Speed   Time    Time     Time  Current\n",
            "                                 Dload  Upload   Total   Spent    Left  Speed\n",
            "100  4415    0  4415    0     0  25228      0 --:--:-- --:--:-- --:--:-- 25228\n",
            "100  517k  100  517k    0     0  1138k      0 --:--:-- --:--:-- --:--:-- 2012k\n",
            "  % Total    % Received % Xferd  Average Speed   Time    Time     Time  Current\n",
            "                                 Dload  Upload   Total   Spent    Left  Speed\n",
            "100  4367    0  4367    0     0  27293      0 --:--:-- --:--:-- --:--:-- 27293\n",
            "100  392k  100  392k    0     0  1004k      0 --:--:-- --:--:-- --:--:-- 1004k\n"
          ]
        }
      ]
    },
    {
      "cell_type": "code",
      "source": [
        "import talib\n",
        "import numpy as np\n",
        "\n",
        "print(sam_df['Close'].values)\n",
        "feature_names = []\n",
        "\n",
        "float_data = [float(x) for x in sam_df['Close']]\n",
        "np_float_data = np.array(float_data)\n",
        "for n in [14, 30, 50, 200]:\n",
        "    sam_df['ma' + str(n)] = talib.SMA(np_float_data, timeperiod=n)\n",
        "    sam_df['rsi' + str(n)] = talib.RSI(np_float_data, timeperiod=n)\n",
        "\n",
        "    feature_names = feature_names + ['ma' + str(n), 'rsi' + str(n)]\n",
        "\n",
        "sam_df['Volume_1d_change'] = sam_df['Volume'].pct_change()\n",
        "\n",
        "volume_features = ['Volume_1d_change']\n",
        "feature_names.extend(volume_features)\n",
        "print(feature_names)\n",
        "\n"
      ],
      "metadata": {
        "id": "Fj2Q5CKtuaEn",
        "colab": {
          "base_uri": "https://localhost:8080/"
        },
        "outputId": "68c14691-b24d-4e49-bcf6-21e93c1f2590"
      },
      "execution_count": null,
      "outputs": [
        {
          "output_type": "stream",
          "name": "stdout",
          "text": [
            "[ 1653  1605  1595 ... 71400 70900 72200]\n",
            "['ma14', 'rsi14', 'ma30', 'rsi30', 'ma50', 'rsi50', 'ma200', 'rsi200', 'Volume_1d_change']\n"
          ]
        }
      ]
    },
    {
      "cell_type": "code",
      "source": [
        "\n",
        "sam_df['5d_future_close'] = sam_df['Close'].shift(-5)\n",
        "sam_df['5d_close_future_pct'] = sam_df['5d_future_close'].pct_change(5)"
      ],
      "metadata": {
        "id": "cOlx6L1D3z9B"
      },
      "execution_count": null,
      "outputs": []
    },
    {
      "cell_type": "code",
      "source": [
        "sam_df.dropna(inplace=True)\n",
        "sam_df = sam_df[np.isfinite(sam_df).all(1)]\n",
        "\n",
        "X = sam_df[feature_names]\n",
        "y = sam_df['5d_close_future_pct']\n",
        "\n",
        "print(y.shape, y.shape[0])\n",
        "train_size = int(0.85 * y.shape[0])\n",
        "print(train_size)\n",
        "X_train = X[:train_size].to_numpy()\n",
        "y_train = y[:train_size].to_numpy()\n",
        "X_test = X[train_size:].to_numpy()\n",
        "y_test = y[train_size:].to_numpy()\n",
        "\n"
      ],
      "metadata": {
        "id": "lN3RAuYA38x_",
        "colab": {
          "base_uri": "https://localhost:8080/"
        },
        "outputId": "791dbe4c-d6c5-4520-dc3d-f36d6933fa54"
      },
      "execution_count": 24,
      "outputs": [
        {
          "output_type": "stream",
          "name": "stdout",
          "text": [
            "(5792,) 5792\n",
            "4923\n"
          ]
        }
      ]
    },
    {
      "cell_type": "code",
      "source": [
        "from sklearn.ensemble import RandomForestRegressor\n",
        "from sklearn.model_selection import ParameterGrid\n",
        "\n",
        "grid = {'n_estimators': [200], 'max_depth': [3], 'max_features': [4, 8], 'random_state': [42]}\n",
        "test_scores = []\n",
        "\n",
        "rf_model = RandomForestRegressor()\n",
        "\n",
        "print(len(X_train))\n",
        "print(len(X_test))\n",
        "\n",
        "#X_train.dropna()\n",
        "#X_train_new = X_train[np.isfinite(X_train).all(1)]\n",
        "\n",
        "for g in ParameterGrid(grid):\n",
        "    rf_model.set_params(**g) \n",
        "    rf_model.fit(X_train, y_train)\n",
        "    test_scores.append(rf_model.score(X_test, y_test))\n",
        "\n",
        "best_index = np.argmax(test_scores)\n",
        "print(test_scores[best_index], ParameterGrid(grid)[best_index])"
      ],
      "metadata": {
        "colab": {
          "base_uri": "https://localhost:8080/"
        },
        "id": "_R-Ww7gi4Dbw",
        "outputId": "a23c1be7-e8a1-4ea3-fdca-372cb8090a24"
      },
      "execution_count": 27,
      "outputs": [
        {
          "output_type": "stream",
          "name": "stdout",
          "text": [
            "4923\n",
            "869\n",
            "-0.18366912925730539 {'random_state': 42, 'n_estimators': 200, 'max_features': 4, 'max_depth': 3}\n"
          ]
        }
      ]
    },
    {
      "cell_type": "code",
      "source": [
        "import pandas as pd\n",
        "import matplotlib.pyplot as plt\n",
        "\n",
        "rf_model = RandomForestRegressor(n_estimators=200, max_depth=3, max_features=4, random_state=42)\n",
        "rf_model.fit(X_train, y_train)\n",
        "\n",
        "y_pred = rf_model.predict(X_test)\n",
        "\n",
        "y_pred_series = pd.Series(y_pred, index=y[train_size:].index)\n",
        "y_pred_series.plot()\n",
        "plt.ylabel(\"Predicted 5 Day Close Price Change Percent\")\n",
        "plt.show()"
      ],
      "metadata": {
        "colab": {
          "base_uri": "https://localhost:8080/",
          "height": 433
        },
        "id": "-smol2dTghp_",
        "outputId": "8b958cba-3f14-4b9f-e093-95a199207473"
      },
      "execution_count": 31,
      "outputs": [
        {
          "output_type": "display_data",
          "data": {
            "text/plain": [
              "<Figure size 640x480 with 1 Axes>"
            ],
            "image/png": "[encoded data removed]"
          },
          "metadata": {}
        }
      ]
    },
    {
      "cell_type": "code",
      "source": [],
      "metadata": {
        "id": "VC2xOFiy4hgn"
      },
      "execution_count": null,
      "outputs": []
    }
  ]
}